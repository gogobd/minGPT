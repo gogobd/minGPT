{
 "cells": [
  {
   "cell_type": "markdown",
   "metadata": {},
   "source": [
    "## Train GPT on addition\n",
    "\n",
    "Train a GPT model on a dedicated addition dataset to see if a Transformer can learn to add."
   ]
  },
  {
   "source": [
    "Print CUDA Memory stats"
   ],
   "cell_type": "markdown",
   "metadata": {}
  },
  {
   "cell_type": "code",
   "execution_count": 1,
   "metadata": {},
   "outputs": [
    {
     "output_type": "stream",
     "name": "stdout",
     "text": "Total memory:     10.9GiB\nCached memory:    0.0B\nAllocated memory: 0.0B\n"
    }
   ],
   "source": [
    "import torch\n",
    "\n",
    "def sizeof_fmt(num, suffix='B'):\n",
    "    for unit in ['', 'Ki', 'Mi', 'Gi', 'Ti', 'Pi', 'Ei', 'Zi']:\n",
    "        if abs(num) < 1024.0:\n",
    "            return \"%3.1f%s%s\" % (num, unit, suffix)\n",
    "        num /= 1024.0\n",
    "    return \"%.1f%s%s\" % (num, 'Yi', suffix)\n",
    "\n",
    "t = torch.cuda.get_device_properties(0).total_memory\n",
    "c = torch.cuda.memory_cached(0)\n",
    "a = torch.cuda.memory_allocated(0)\n",
    "\n",
    "print(\"Total memory:     \" + sizeof_fmt(t))\n",
    "print(\"Cached memory:    \" + sizeof_fmt(c))\n",
    "print(\"Allocated memory: \" + sizeof_fmt(a))"
   ]
  },
  {
   "cell_type": "code",
   "execution_count": 2,
   "metadata": {},
   "outputs": [],
   "source": [
    "# set up logging\n",
    "import logging\n",
    "logging.basicConfig(\n",
    "        format=\"%(asctime)s - %(levelname)s - %(name)s -   %(message)s\",\n",
    "        datefmt=\"%m/%d/%Y %H:%M:%S\",\n",
    "        level=logging.INFO,\n",
    ")"
   ]
  },
  {
   "cell_type": "code",
   "execution_count": 3,
   "metadata": {},
   "outputs": [],
   "source": [
    "# make deterministic\n",
    "from mingpt.utils import set_seed\n",
    "set_seed(42)"
   ]
  },
  {
   "cell_type": "code",
   "execution_count": 4,
   "metadata": {},
   "outputs": [],
   "source": [
    "import numpy as np\n",
    "import torch\n",
    "import torch.nn as nn\n",
    "from torch.nn import functional as F"
   ]
  },
  {
   "cell_type": "code",
   "execution_count": 5,
   "metadata": {},
   "outputs": [],
   "source": [
    "from torch.utils.data import Dataset\n",
    "\n",
    "class AdditionDataset(Dataset):\n",
    "    \"\"\"\n",
    "    Returns addition problems of up to some number of digits in the inputs. Recall\n",
    "    that all GPT cares about are sequences of integers, and completing them according to\n",
    "    patterns in the data. Therefore, we have to somehow encode addition problems\n",
    "    as a sequence of integers.\n",
    "    \n",
    "    The sum of two n-digit numbers gives a third up to (n+1)-digit number. So our\n",
    "    encoding will simply be the n-digit first number, n-digit second number, \n",
    "    and (n+1)-digit result, all simply concatenated together. Because each addition\n",
    "    problem is so structured, there is no need to bother the model with encoding\n",
    "    +, =, or other tokens. Each possible sequence has the same length, and simply\n",
    "    contains the raw digits of the addition problem.\n",
    "    \n",
    "    As a few examples, the 2-digit problems:\n",
    "    - 85 + 50 = 135 becomes the sequence [8, 5, 5, 0, 1, 3, 5]\n",
    "    - 6 + 39 = 45 becomes the sequence [0, 6, 3, 9, 0, 4, 5]\n",
    "    etc.\n",
    "    \n",
    "    We will also only train GPT on the final (n+1)-digits because the first\n",
    "    two n-digits are always assumed to be given. So when we give GPT an exam later,\n",
    "    we will e.g. feed it the sequence [0, 6, 3, 9], which encodes that we'd like\n",
    "    to add 6 + 39, and hope that the model completes the integer sequence with [0, 4, 5]\n",
    "    in 3 sequential steps.\n",
    "    \n",
    "    fun exercise: does it help if the result is asked to be produced in reverse order?\n",
    "    \"\"\"\n",
    "\n",
    "    def __init__(self, ndigit, split):\n",
    "        self.split = split # train/test\n",
    "        self.ndigit = ndigit\n",
    "        self.vocab_size = 10 # 10 possible digits 0..9\n",
    "        # +1 due to potential carry overflow, but then -1 because very last digit doesn't plug back\n",
    "        self.block_size = ndigit + ndigit + ndigit + 1 - 1\n",
    "        \n",
    "        # split up all addition problems into either training data or test data\n",
    "        num = (10**self.ndigit)**2 # total number of possible combinations\n",
    "        r = np.random.RandomState(1337) # make deterministic\n",
    "        perm = r.permutation(num)\n",
    "        num_test = min(int(num*0.2), 1000) # 20% of the whole dataset, or only up to 1000\n",
    "        self.ixes = perm[:num_test] if split == 'test' else perm[num_test:]\n",
    "\n",
    "    def __len__(self):\n",
    "        return self.ixes.size\n",
    "\n",
    "    def __getitem__(self, idx):\n",
    "        # given a problem index idx, first recover the associated a + b\n",
    "        idx = self.ixes[idx]\n",
    "        nd = 10**self.ndigit\n",
    "        a = idx // nd\n",
    "        b = idx %  nd\n",
    "        c = a + b\n",
    "        render = f'%0{self.ndigit}d%0{self.ndigit}d%0{self.ndigit+1}d' % (a,b,c) # e.g. 03+25=28 becomes \"0325028\" \n",
    "        dix = [int(s) for s in render] # convert each character to its token index\n",
    "        # x will be input to GPT and y will be the associated expected outputs\n",
    "        x = torch.tensor(dix[:-1], dtype=torch.long)\n",
    "        y = torch.tensor(dix[1:], dtype=torch.long) # predict the next token in the sequence\n",
    "        y[:self.ndigit*2-1] = -100 # we will only train in the output locations. -100 will mask loss to zero\n",
    "        return x, y\n"
   ]
  },
  {
   "cell_type": "code",
   "execution_count": 6,
   "metadata": {},
   "outputs": [],
   "source": [
    "# create a dataset for e.g. 2-digit addition\n",
    "ndigit = 2\n",
    "train_dataset = AdditionDataset(ndigit=ndigit, split='train')\n",
    "test_dataset = AdditionDataset(ndigit=ndigit, split='test')"
   ]
  },
  {
   "cell_type": "code",
   "execution_count": 7,
   "metadata": {},
   "outputs": [
    {
     "output_type": "execute_result",
     "data": {
      "text/plain": "(tensor([4, 7, 1, 7, 0, 6]), tensor([-100, -100, -100,    0,    6,    4]))"
     },
     "metadata": {},
     "execution_count": 7
    }
   ],
   "source": [
    "train_dataset[0] # sample a training instance just to see what one raw example looks like"
   ]
  },
  {
   "cell_type": "code",
   "execution_count": 8,
   "metadata": {},
   "outputs": [
    {
     "output_type": "stream",
     "name": "stderr",
     "text": "11/02/2020 13:19:50 - INFO - mingpt.model -   number of parameters: 4.001280e+05\n"
    }
   ],
   "source": [
    "from mingpt.model import GPT, GPTConfig, GPT1Config\n",
    "\n",
    "# initialize a baby GPT model\n",
    "mconf = GPTConfig(train_dataset.vocab_size, train_dataset.block_size, \n",
    "                  n_layer=2, n_head=4, n_embd=128)\n",
    "model = GPT(mconf)"
   ]
  },
  {
   "cell_type": "code",
   "execution_count": 9,
   "metadata": {},
   "outputs": [
    {
     "output_type": "stream",
     "name": "stderr",
     "text": "epoch 1 iter 17: train loss 1.75684. lr 5.994512e-04: 100%|██████████| 18/18 [00:00<00:00, 27.61it/s]\n11/02/2020 13:19:55 - INFO - mingpt.trainer -   test loss: 1.710448\nepoch 2 iter 17: train loss 1.53107. lr 5.977197e-04: 100%|██████████| 18/18 [00:00<00:00, 36.15it/s]\n11/02/2020 13:19:55 - INFO - mingpt.trainer -   test loss: 1.479586\nepoch 3 iter 17: train loss 1.33003. lr 5.948114e-04: 100%|██████████| 18/18 [00:00<00:00, 35.41it/s]\n11/02/2020 13:19:56 - INFO - mingpt.trainer -   test loss: 1.308625\nepoch 4 iter 17: train loss 1.23799. lr 5.907379e-04: 100%|██████████| 18/18 [00:00<00:00, 32.07it/s]\n11/02/2020 13:19:57 - INFO - mingpt.trainer -   test loss: 1.188312\nepoch 5 iter 17: train loss 1.19410. lr 5.855153e-04: 100%|██████████| 18/18 [00:00<00:00, 32.11it/s]\n11/02/2020 13:19:58 - INFO - mingpt.trainer -   test loss: 1.107076\nepoch 6 iter 17: train loss 1.12546. lr 5.791641e-04: 100%|██████████| 18/18 [00:00<00:00, 32.88it/s]\n11/02/2020 13:19:59 - INFO - mingpt.trainer -   test loss: 1.064084\nepoch 7 iter 17: train loss 1.08801. lr 5.717095e-04: 100%|██████████| 18/18 [00:00<00:00, 32.04it/s]\n11/02/2020 13:19:59 - INFO - mingpt.trainer -   test loss: 1.037132\nepoch 8 iter 17: train loss 1.03719. lr 5.631810e-04: 100%|██████████| 18/18 [00:00<00:00, 32.63it/s]\n11/02/2020 13:20:00 - INFO - mingpt.trainer -   test loss: 1.001635\nepoch 9 iter 17: train loss 1.00689. lr 5.536122e-04: 100%|██████████| 18/18 [00:00<00:00, 32.20it/s]\n11/02/2020 13:20:01 - INFO - mingpt.trainer -   test loss: 0.884576\nepoch 10 iter 17: train loss 0.64336. lr 5.430411e-04: 100%|██████████| 18/18 [00:00<00:00, 32.62it/s]\n11/02/2020 13:20:02 - INFO - mingpt.trainer -   test loss: 0.458683\nepoch 11 iter 17: train loss 0.57143. lr 5.315093e-04: 100%|██████████| 18/18 [00:00<00:00, 31.61it/s]\n11/02/2020 13:20:03 - INFO - mingpt.trainer -   test loss: 0.373950\nepoch 12 iter 17: train loss 0.45780. lr 5.190624e-04: 100%|██████████| 18/18 [00:00<00:00, 28.94it/s]\n11/02/2020 13:20:03 - INFO - mingpt.trainer -   test loss: 0.307632\nepoch 13 iter 17: train loss 0.42522. lr 5.057497e-04: 100%|██████████| 18/18 [00:00<00:00, 32.87it/s]\n11/02/2020 13:20:04 - INFO - mingpt.trainer -   test loss: 0.250213\nepoch 14 iter 17: train loss 0.33872. lr 4.916238e-04: 100%|██████████| 18/18 [00:00<00:00, 34.04it/s]\n11/02/2020 13:20:05 - INFO - mingpt.trainer -   test loss: 0.223270\nepoch 15 iter 17: train loss 0.30850. lr 4.767405e-04: 100%|██████████| 18/18 [00:00<00:00, 31.80it/s]\n11/02/2020 13:20:06 - INFO - mingpt.trainer -   test loss: 0.173557\nepoch 16 iter 17: train loss 0.29335. lr 4.611586e-04: 100%|██████████| 18/18 [00:00<00:00, 33.41it/s]\n11/02/2020 13:20:07 - INFO - mingpt.trainer -   test loss: 0.141149\nepoch 17 iter 17: train loss 0.24220. lr 4.449397e-04: 100%|██████████| 18/18 [00:00<00:00, 31.72it/s]\n11/02/2020 13:20:07 - INFO - mingpt.trainer -   test loss: 0.106589\nepoch 18 iter 17: train loss 0.20500. lr 4.281479e-04: 100%|██████████| 18/18 [00:00<00:00, 31.45it/s]\n11/02/2020 13:20:08 - INFO - mingpt.trainer -   test loss: 0.091296\nepoch 19 iter 17: train loss 0.23708. lr 4.108497e-04: 100%|██████████| 18/18 [00:00<00:00, 33.32it/s]\n11/02/2020 13:20:09 - INFO - mingpt.trainer -   test loss: 0.072633\nepoch 20 iter 17: train loss 0.23491. lr 3.931133e-04: 100%|██████████| 18/18 [00:00<00:00, 32.14it/s]\n11/02/2020 13:20:10 - INFO - mingpt.trainer -   test loss: 0.060991\nepoch 21 iter 17: train loss 0.16978. lr 3.750088e-04: 100%|██████████| 18/18 [00:00<00:00, 33.20it/s]\n11/02/2020 13:20:11 - INFO - mingpt.trainer -   test loss: 0.050106\nepoch 22 iter 17: train loss 0.16684. lr 3.566079e-04: 100%|██████████| 18/18 [00:00<00:00, 31.89it/s]\n11/02/2020 13:20:12 - INFO - mingpt.trainer -   test loss: 0.040498\nepoch 23 iter 17: train loss 0.13256. lr 3.379832e-04: 100%|██████████| 18/18 [00:00<00:00, 32.01it/s]\n11/02/2020 13:20:12 - INFO - mingpt.trainer -   test loss: 0.031948\nepoch 24 iter 17: train loss 0.13293. lr 3.192084e-04: 100%|██████████| 18/18 [00:00<00:00, 31.71it/s]\n11/02/2020 13:20:13 - INFO - mingpt.trainer -   test loss: 0.028861\nepoch 25 iter 17: train loss 0.12079. lr 3.003577e-04: 100%|██████████| 18/18 [00:00<00:00, 34.77it/s]\n11/02/2020 13:20:14 - INFO - mingpt.trainer -   test loss: 0.025522\nepoch 26 iter 17: train loss 0.13759. lr 2.815056e-04: 100%|██████████| 18/18 [00:00<00:00, 34.33it/s]\n11/02/2020 13:20:15 - INFO - mingpt.trainer -   test loss: 0.024041\nepoch 27 iter 17: train loss 0.09864. lr 2.627266e-04: 100%|██████████| 18/18 [00:00<00:00, 31.91it/s]\n11/02/2020 13:20:16 - INFO - mingpt.trainer -   test loss: 0.020211\nepoch 28 iter 17: train loss 0.10575. lr 2.440948e-04: 100%|██████████| 18/18 [00:00<00:00, 31.87it/s]\n11/02/2020 13:20:16 - INFO - mingpt.trainer -   test loss: 0.018806\nepoch 29 iter 17: train loss 0.10362. lr 2.256841e-04: 100%|██████████| 18/18 [00:00<00:00, 33.14it/s]\n11/02/2020 13:20:17 - INFO - mingpt.trainer -   test loss: 0.015573\nepoch 30 iter 17: train loss 0.11786. lr 2.075671e-04: 100%|██████████| 18/18 [00:00<00:00, 31.87it/s]\n11/02/2020 13:20:18 - INFO - mingpt.trainer -   test loss: 0.014062\nepoch 31 iter 17: train loss 0.10314. lr 1.898155e-04: 100%|██████████| 18/18 [00:00<00:00, 33.03it/s]\n11/02/2020 13:20:19 - INFO - mingpt.trainer -   test loss: 0.012192\nepoch 32 iter 17: train loss 0.09822. lr 1.724993e-04: 100%|██████████| 18/18 [00:00<00:00, 33.91it/s]\n11/02/2020 13:20:20 - INFO - mingpt.trainer -   test loss: 0.011036\nepoch 33 iter 17: train loss 0.07538. lr 1.556871e-04: 100%|██████████| 18/18 [00:00<00:00, 31.32it/s]\n11/02/2020 13:20:20 - INFO - mingpt.trainer -   test loss: 0.009768\nepoch 34 iter 17: train loss 0.08975. lr 1.394453e-04: 100%|██████████| 18/18 [00:00<00:00, 31.85it/s]\n11/02/2020 13:20:21 - INFO - mingpt.trainer -   test loss: 0.010340\nepoch 35 iter 17: train loss 0.09366. lr 1.238381e-04: 100%|██████████| 18/18 [00:00<00:00, 32.27it/s]\n11/02/2020 13:20:22 - INFO - mingpt.trainer -   test loss: 0.008712\nepoch 36 iter 17: train loss 0.08132. lr 1.089272e-04: 100%|██████████| 18/18 [00:00<00:00, 33.66it/s]\n11/02/2020 13:20:23 - INFO - mingpt.trainer -   test loss: 0.008434\nepoch 37 iter 17: train loss 0.07540. lr 9.477150e-05: 100%|██████████| 18/18 [00:00<00:00, 33.90it/s]\n11/02/2020 13:20:24 - INFO - mingpt.trainer -   test loss: 0.007688\nepoch 38 iter 17: train loss 0.06885. lr 8.142699e-05: 100%|██████████| 18/18 [00:00<00:00, 32.97it/s]\n11/02/2020 13:20:24 - INFO - mingpt.trainer -   test loss: 0.007165\nepoch 39 iter 17: train loss 0.07793. lr 6.894639e-05: 100%|██████████| 18/18 [00:00<00:00, 32.23it/s]\n11/02/2020 13:20:25 - INFO - mingpt.trainer -   test loss: 0.007166\nepoch 40 iter 17: train loss 0.06048. lr 6.000000e-05: 100%|██████████| 18/18 [00:00<00:00, 31.88it/s]\n11/02/2020 13:20:26 - INFO - mingpt.trainer -   test loss: 0.006873\nepoch 41 iter 17: train loss 0.07738. lr 6.000000e-05: 100%|██████████| 18/18 [00:00<00:00, 32.20it/s]\n11/02/2020 13:20:27 - INFO - mingpt.trainer -   test loss: 0.006232\nepoch 42 iter 17: train loss 0.07523. lr 6.000000e-05: 100%|██████████| 18/18 [00:00<00:00, 32.19it/s]\n11/02/2020 13:20:28 - INFO - mingpt.trainer -   test loss: 0.005846\nepoch 43 iter 17: train loss 0.08980. lr 6.000000e-05: 100%|██████████| 18/18 [00:00<00:00, 31.54it/s]\n11/02/2020 13:20:28 - INFO - mingpt.trainer -   test loss: 0.005713\nepoch 44 iter 17: train loss 0.06490. lr 6.000000e-05: 100%|██████████| 18/18 [00:00<00:00, 31.15it/s]\n11/02/2020 13:20:29 - INFO - mingpt.trainer -   test loss: 0.005911\nepoch 45 iter 17: train loss 0.07728. lr 6.000000e-05: 100%|██████████| 18/18 [00:00<00:00, 30.97it/s]\n11/02/2020 13:20:30 - INFO - mingpt.trainer -   test loss: 0.006275\nepoch 46 iter 17: train loss 0.09670. lr 6.000000e-05: 100%|██████████| 18/18 [00:00<00:00, 31.33it/s]\n11/02/2020 13:20:31 - INFO - mingpt.trainer -   test loss: 0.005418\nepoch 47 iter 17: train loss 0.06551. lr 6.000000e-05: 100%|██████████| 18/18 [00:00<00:00, 31.68it/s]\n11/02/2020 13:20:32 - INFO - mingpt.trainer -   test loss: 0.005578\nepoch 48 iter 17: train loss 0.09904. lr 6.000000e-05: 100%|██████████| 18/18 [00:00<00:00, 31.35it/s]\n11/02/2020 13:20:33 - INFO - mingpt.trainer -   test loss: 0.005667\nepoch 49 iter 17: train loss 0.04661. lr 6.000000e-05: 100%|██████████| 18/18 [00:00<00:00, 28.63it/s]\n11/02/2020 13:20:33 - INFO - mingpt.trainer -   test loss: 0.004880\nepoch 50 iter 17: train loss 0.07037. lr 6.000000e-05: 100%|██████████| 18/18 [00:00<00:00, 26.83it/s]\n11/02/2020 13:20:34 - INFO - mingpt.trainer -   test loss: 0.005031\n"
    }
   ],
   "source": [
    "from mingpt.trainer import Trainer, TrainerConfig\n",
    "\n",
    "# initialize a trainer instance and kick off training\n",
    "tconf = TrainerConfig(max_epochs=50, batch_size=512, learning_rate=6e-4,\n",
    "                      lr_decay=True, warmup_tokens=1024, final_tokens=50*len(train_dataset)*(ndigit+1),\n",
    "                      num_workers=4)\n",
    "trainer = Trainer(model, train_dataset, test_dataset, tconf)\n",
    "trainer.train()"
   ]
  },
  {
   "cell_type": "code",
   "execution_count": 10,
   "metadata": {},
   "outputs": [],
   "source": [
    "# now let's give the trained model an addition exam\n",
    "from torch.utils.data.dataloader import DataLoader\n",
    "from mingpt.utils import sample\n",
    "\n",
    "def give_exam(dataset, batch_size=32, max_batches=-1):\n",
    "    \n",
    "    results = []\n",
    "    loader = DataLoader(dataset, batch_size=batch_size)\n",
    "    for b, (x, y) in enumerate(loader):\n",
    "        x = x.to(trainer.device)\n",
    "        d1d2 = x[:, :ndigit*2]\n",
    "        d1d2d3 = sample(model, d1d2, ndigit+1)\n",
    "        d3 = d1d2d3[:, -(ndigit+1):]\n",
    "        factors = torch.tensor([[10**i for i in range(ndigit+1)][::-1]]).to(trainer.device)\n",
    "        # decode the integers from individual digits\n",
    "        d1i = (d1d2[:,:ndigit] * factors[:,1:]).sum(1)\n",
    "        d2i = (d1d2[:,ndigit:ndigit*2] * factors[:,1:]).sum(1)\n",
    "        d3i_pred = (d3 * factors).sum(1)\n",
    "        d3i_gt = d1i + d2i\n",
    "        correct = (d3i_pred == d3i_gt).cpu() # Software 1.0 vs. Software 2.0 fight RIGHT on this line, lol\n",
    "        for i in range(x.size(0)):\n",
    "            results.append(int(correct[i]))\n",
    "            judge = 'YEP!!!' if correct[i] else 'NOPE'\n",
    "            if not correct[i]:\n",
    "                print(\"GPT claims that %03d + %03d = %03d (gt is %03d; %s)\" \n",
    "                      % (d1i[i], d2i[i], d3i_pred[i], d3i_gt[i], judge))\n",
    "        \n",
    "        if max_batches >= 0 and b+1 >= max_batches:\n",
    "            break\n",
    "\n",
    "    print(\"final score: %d/%d = %.2f%% correct\" % (np.sum(results), len(results), 100*np.mean(results)))"
   ]
  },
  {
   "cell_type": "code",
   "execution_count": 10,
   "metadata": {
    "scrolled": true
   },
   "outputs": [
    {
     "name": "stdout",
     "output_type": "stream",
     "text": [
      "final score: 9000/9000 = 100.00% correct\n"
     ]
    }
   ],
   "source": [
    "# training set: how well did we memorize?\n",
    "give_exam(train_dataset, batch_size=1024, max_batches=10)"
   ]
  },
  {
   "cell_type": "code",
   "execution_count": 11,
   "metadata": {},
   "outputs": [
    {
     "output_type": "stream",
     "name": "stdout",
     "text": "final score: 1000/1000 = 100.00% correct\n"
    }
   ],
   "source": [
    "# test set: how well did we generalize?\n",
    "give_exam(test_dataset, batch_size=1024, max_batches=-1)"
   ]
  },
  {
   "cell_type": "code",
   "execution_count": null,
   "metadata": {},
   "outputs": [],
   "source": [
    "# well that's amusing... our model learned everything except 55 + 45"
   ]
  }
 ],
 "metadata": {
  "kernelspec": {
   "display_name": "Python 3",
   "language": "python",
   "name": "python3"
  },
  "language_info": {
   "codemirror_mode": {
    "name": "ipython",
    "version": 3
   },
   "file_extension": ".py",
   "mimetype": "text/x-python",
   "name": "python",
   "nbconvert_exporter": "python",
   "pygments_lexer": "ipython3",
   "version": "3.8.3-final"
  }
 },
 "nbformat": 4,
 "nbformat_minor": 4
}